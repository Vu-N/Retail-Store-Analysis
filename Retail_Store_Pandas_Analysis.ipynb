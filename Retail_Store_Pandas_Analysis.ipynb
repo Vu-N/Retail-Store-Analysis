{
  "nbformat": 4,
  "nbformat_minor": 0,
  "metadata": {
    "colab": {
      "provenance": []
    },
    "kernelspec": {
      "name": "python3",
      "display_name": "Python 3"
    },
    "language_info": {
      "name": "python"
    }
  },
  "cells": [
    {
      "cell_type": "code",
      "execution_count": null,
      "metadata": {
        "id": "4XnkRc8uusAI"
      },
      "outputs": [],
      "source": [
        "import pandas as pd\n",
        "import matplotlib.pyplot as plt\n",
        "import seaborn as sns\n",
        "import scipy.stats\n",
        "xl =pd.ExcelFile(\"/content/RetailerSalesData.xlsx\")\n",
        "SalesData = xl.parse(\"Orders\")"
      ]
    },
    {
      "cell_type": "code",
      "source": [
        "CategoryProfitSales = SalesData[[\"Category\",\"Profit\",\"Sales\"]]\n",
        "TotalSegmentProfitSales = CategoryProfitSales.groupby(by = [\"Category\"]).sum()\n",
        "print(TotalSegmentProfitSales)"
      ],
      "metadata": {
        "id": "hN94kz9HCBOK",
        "colab": {
          "base_uri": "https://localhost:8080/"
        },
        "outputId": "53f5c013-b879-4c22-c3af-9fdaa5929eed"
      },
      "execution_count": null,
      "outputs": [
        {
          "output_type": "stream",
          "name": "stdout",
          "text": [
            "                      Profit        Sales\n",
            "Category                                 \n",
            "Furniture         18451.2728  741999.7953\n",
            "Office Supplies  122490.8008  719047.0320\n",
            "Technology       145454.9481  836154.0330\n"
          ]
        }
      ]
    },
    {
      "cell_type": "code",
      "source": [
        "#Look through Sub-Categories\n",
        "TotalSubCatProfits = SubCatProfits.groupby(by = \"Sub-Category\").sum().sort_values(by=\"Profit\")\n",
        "print(TotalSubCatProfits)"
      ],
      "metadata": {
        "id": "MqqGfk0JB9BM",
        "colab": {
          "base_uri": "https://localhost:8080/"
        },
        "outputId": "ac53895b-6bbe-4ecb-bd01-86110cef6273"
      },
      "execution_count": null,
      "outputs": [
        {
          "output_type": "stream",
          "name": "stdout",
          "text": [
            "                  Profit        Sales\n",
            "Sub-Category                         \n",
            "Tables       -17725.4811  206965.5320\n",
            "Bookcases     -3472.5560  114879.9963\n",
            "Supplies      -1189.0995   46673.5380\n",
            "Fasteners       949.5182    3024.2800\n",
            "Machines       3384.7569  189238.6310\n",
            "Labels         5546.2540   12486.3120\n",
            "Art            6527.7870   27118.7920\n",
            "Envelopes      6964.1767   16476.4020\n",
            "Furnishings   13059.1436   91705.1640\n",
            "Appliances    18138.0054  107532.1610\n",
            "Storage       21278.8264  223843.6080\n",
            "Chairs        26590.1663  328449.1030\n",
            "Binders       30221.7633  203412.7330\n",
            "Paper         34053.5693   78479.2060\n",
            "Accessories   41936.6357  167380.3180\n",
            "Phones        44515.7306  330007.0540\n",
            "Copiers       55617.8249  149528.0300\n"
          ]
        }
      ]
    },
    {
      "cell_type": "code",
      "source": [
        "#Group by Category\n",
        "CategoryProfitSales=SalesData[[\"Category\",\"Sub-Category\",\"Profit\",\"Sales\"]]\n",
        "TotalCatSubCat = CategoryProfitSales.groupby(by=[\"Category\",\"Sub-Category\"]).sum()\n",
        "print(TotalCatSubCat)"
      ],
      "metadata": {
        "id": "t_dpOQtN_1a4",
        "colab": {
          "base_uri": "https://localhost:8080/"
        },
        "outputId": "5adc59eb-6325-4242-ded7-5a7d87d1ced8"
      },
      "execution_count": null,
      "outputs": [
        {
          "output_type": "stream",
          "name": "stdout",
          "text": [
            "                                  Profit        Sales\n",
            "Category        Sub-Category                         \n",
            "Furniture       Bookcases     -3472.5560  114879.9963\n",
            "                Chairs        26590.1663  328449.1030\n",
            "                Furnishings   13059.1436   91705.1640\n",
            "                Tables       -17725.4811  206965.5320\n",
            "Office Supplies Appliances    18138.0054  107532.1610\n",
            "                Art            6527.7870   27118.7920\n",
            "                Binders       30221.7633  203412.7330\n",
            "                Envelopes      6964.1767   16476.4020\n",
            "                Fasteners       949.5182    3024.2800\n",
            "                Labels         5546.2540   12486.3120\n",
            "                Paper         34053.5693   78479.2060\n",
            "                Storage       21278.8264  223843.6080\n",
            "                Supplies      -1189.0995   46673.5380\n",
            "Technology      Accessories   41936.6357  167380.3180\n",
            "                Copiers       55617.8249  149528.0300\n",
            "                Machines       3384.7569  189238.6310\n",
            "                Phones        44515.7306  330007.0540\n"
          ]
        }
      ]
    },
    {
      "cell_type": "code",
      "source": [
        "#Getting profits & sales of Regions\n",
        "RegionProfitSales = SalesData[[\"Region\",\"Profit\",\"Sales\"]]\n",
        "TotalRegionProfitSales = RegionProfitSales.groupby(by = [\"Region\"]).sum()\n",
        "print(TotalRegionProfitSales)"
      ],
      "metadata": {
        "id": "7cSQMN-hGL3z"
      },
      "execution_count": null,
      "outputs": []
    },
    {
      "cell_type": "code",
      "source": [
        "#Getting profits & sales of Categories in each Region\n",
        "RegionCategoryProfitSales = SalesData[[\"Region\",\"Category\",\"Profit\",\"Sales\"]]\n",
        "TotalRegionSegmentProfitSales = RegionCategoryProfitSales.groupby(by = [\"Region\",\"Category\"]).sum()\n",
        "print(TotalRegionSegmentProfitSales)"
      ],
      "metadata": {
        "id": "762MDFxICNOU",
        "colab": {
          "base_uri": "https://localhost:8080/"
        },
        "outputId": "d33ca0fb-b254-4403-a1ef-25b5f118608a"
      },
      "execution_count": null,
      "outputs": [
        {
          "output_type": "stream",
          "name": "stdout",
          "text": [
            "                             Profit        Sales\n",
            "Region  Category                                \n",
            "Central Furniture        -2871.0494  163797.1638\n",
            "        Office Supplies   8879.9799  167026.4150\n",
            "        Technology       33697.4320  170416.3120\n",
            "East    Furniture         3046.1658  208291.2040\n",
            "        Office Supplies  41014.5791  205516.0550\n",
            "        Technology       47462.0351  264973.9810\n",
            "South   Furniture         6771.2061  117298.6840\n",
            "        Office Supplies  19986.3928  125651.3130\n",
            "        Technology       19991.8314  148771.9080\n",
            "West    Furniture        11504.9503  252612.7435\n",
            "        Office Supplies  52609.8490  220853.2490\n",
            "        Technology       44303.6496  251991.8320\n"
          ]
        }
      ]
    },
    {
      "cell_type": "code",
      "source": [
        "#looking into Furniture Category\n",
        "JustOfficeSupplies = SalesData.loc[SalesData[\"Category\"] == \"Furniture\"]\n",
        "OfficeSuppliesSales=JustOfficeSupplies[[\"Sub-Category\", \"Profit\",\"Sales\"]].groupby(\"Sub-Category\").sum(). sort_values(\"Profit\")\n",
        "print(OfficeSuppliesSales)"
      ],
      "metadata": {
        "id": "CeYSU8mbK7ZN",
        "colab": {
          "base_uri": "https://localhost:8080/"
        },
        "outputId": "575f0f98-38d6-42d9-d4be-ca63034dfc6e"
      },
      "execution_count": null,
      "outputs": [
        {
          "output_type": "stream",
          "name": "stdout",
          "text": [
            "                  Profit        Sales\n",
            "Sub-Category                         \n",
            "Tables       -17725.4811  206965.5320\n",
            "Bookcases     -3472.5560  114879.9963\n",
            "Furnishings   13059.1436   91705.1640\n",
            "Chairs        26590.1663  328449.1030\n"
          ]
        }
      ]
    },
    {
      "cell_type": "code",
      "source": [
        "#Getting overview of Furniture Category through filtering by Region, Segment, then both.\n",
        "JustFurniture = SalesData.loc[SalesData[\"Category\"]==\"Furniture\"]\n",
        "FurnitureRegionSegment = JustFurniture[[\"Region\",\"Segment\",\"Profit\",\"Sales\"]]\n",
        "FurnitureRegionProfSales = FurnitureRegionSegment.groupby(by=\"Region\").sum().sort_values(by=\"Profit\")\n",
        "FurnitureSegmentProfSales = FurnitureRegionSegment.groupby(by=\"Segment\").sum().sort_values(by=\"Profit\")\n",
        "FurnitureRegionSegmentProfSales = FurnitureRegionSegment.groupby(by=[\"Region\",\"Segment\"]).sum()\n",
        "print(FurnitureRegionProfSales)\n",
        "print(FurnitureSegmentProfSales)\n",
        "print(FurnitureRegionSegmentProfSales)"
      ],
      "metadata": {
        "colab": {
          "base_uri": "https://localhost:8080/"
        },
        "id": "glhk9FgsoYLa",
        "outputId": "5f479d57-13d8-4499-92b3-d9445703bba8"
      },
      "execution_count": null,
      "outputs": [
        {
          "output_type": "stream",
          "name": "stdout",
          "text": [
            "             Profit        Sales\n",
            "Region                          \n",
            "Central  -2871.0494  163797.1638\n",
            "East      3046.1658  208291.2040\n",
            "South     6771.2061  117298.6840\n",
            "West     11504.9503  252612.7435\n",
            "                Profit        Sales\n",
            "Segment                            \n",
            "Home Office  3875.3784  121930.6975\n",
            "Consumer     6991.0786  391049.3120\n",
            "Corporate    7584.8158  229019.7858\n",
            "                        Profit        Sales\n",
            "Region  Segment                            \n",
            "Central Consumer    -3994.4342   86229.2190\n",
            "        Corporate    2321.9939   52085.6018\n",
            "        Home Office -1198.6091   25482.3430\n",
            "East    Consumer     2038.1122  114211.8020\n",
            "        Corporate     342.1257   64209.0460\n",
            "        Home Office   665.9279   29870.3560\n",
            "South   Consumer     4616.7326   70800.2040\n",
            "        Corporate     952.0303   29645.0315\n",
            "        Home Office  1202.4432   16853.4485\n",
            "West    Consumer     4330.6680  119808.0870\n",
            "        Corporate    3968.6659   83080.1065\n",
            "        Home Office  3205.6164   49724.5500\n"
          ]
        }
      ]
    },
    {
      "cell_type": "code",
      "source": [
        "#Employer has an idea but needs data. Several new art vendors have approached her: two framed art companies one offering \n",
        "#prints and one offering original art and one offering 3D art. (what region / segment to test market) \n",
        "\n",
        "#Decided to go with Furnishings Sub-Category\n",
        "#Getting overview of Furnishings\n",
        "\n",
        "#Can be seen that Consumers in West Region has most sales & Profit for Furnishings) \n",
        "\n",
        "JustFurnishings = SalesData.loc[SalesData[\"Sub-Category\"]==\"Furnishings\"]\n",
        "FurnishingsRegionSegment = JustFurnishings[[\"Region\",\"Segment\",\"Profit\",\"Sales\"]]\n",
        "FurnishingsRegionProfSales = FurnishingsRegionSegment.groupby(by=\"Region\").sum().sort_values(by=\"Profit\")\n",
        "FurnishingsSegmentProfSales = FurnishingsRegionSegment.groupby(by=\"Segment\").sum().sort_values(by=\"Profit\")\n",
        "FurnishingsRegionSegmentProfSales = FurnishingsRegionSegment.groupby(by=[\"Region\",\"Segment\"]).sum()\n",
        "print(FurnishingsRegionProfSales)\n",
        "print(FurnishingsSegmentProfSales)\n",
        "print(FurnishingsRegionSegmentProfSales)\n"
      ],
      "metadata": {
        "id": "a3sloXXQD6tg",
        "colab": {
          "base_uri": "https://localhost:8080/"
        },
        "outputId": "365240d5-5f5c-4a6a-aee5-6fc64f24a4d7"
      },
      "execution_count": null,
      "outputs": [
        {
          "output_type": "stream",
          "name": "stdout",
          "text": [
            "            Profit      Sales\n",
            "Region                       \n",
            "Central -3906.2168  15254.370\n",
            "South    3442.6829  17306.684\n",
            "East     5881.4071  29071.380\n",
            "West     7641.2704  30072.730\n",
            "                Profit      Sales\n",
            "Segment                          \n",
            "Home Office  1631.5132  17083.852\n",
            "Corporate    3508.2077  25001.266\n",
            "Consumer     7919.4227  49620.046\n",
            "                        Profit      Sales\n",
            "Region  Segment                          \n",
            "Central Consumer    -1454.0524   9499.990\n",
            "        Corporate   -1209.3583   3143.956\n",
            "        Home Office -1242.8061   2610.424\n",
            "East    Consumer     3021.1370  13177.068\n",
            "        Corporate    1956.2306   9983.326\n",
            "        Home Office   904.0395   5910.986\n",
            "South   Consumer     1957.1855  10870.574\n",
            "        Corporate    1087.9331   4504.680\n",
            "        Home Office   397.5643   1931.430\n",
            "West    Consumer     4395.1526  16072.414\n",
            "        Corporate    1673.4023   7369.304\n",
            "        Home Office  1572.7155   6631.012\n"
          ]
        }
      ]
    },
    {
      "cell_type": "markdown",
      "source": [
        "4 year summary\n",
        "\n",
        "Negatives:\n",
        "\n",
        "*   Every segment in Central region has negative profits\n",
        "*   Home Office segment has least profit overall and sales out of 3 segments\n",
        "*   Home office segment has least profit in every region except for Central\n",
        "\n",
        "\n",
        "\n",
        "\n",
        "\n"
      ],
      "metadata": {
        "id": "g9InXKKlZyr0"
      }
    },
    {
      "cell_type": "code",
      "source": [
        "#Function to highlight numbers that are less than 0\n",
        "def highlight_cells(val):\n",
        "  color = 'red' if val < 0 else ''\n",
        "  return 'background-color:{}'.format(color)\n",
        "\n",
        "#Variable for formatting data as currency and percentage\n",
        "format_dict = {'Profit':'${0:,.2f}', 'Discount': '{:.2%}'}\n",
        "\n",
        "JustFurnishings = SalesData.loc[SalesData[\"Sub-Category\"]==\"Furnishings\"]\n",
        "JustFurnishingsYears = JustFurnishings.copy()\n",
        "JustFurnishingsYears[\"Year\"] = JustFurnishingsYears[\"Order Date\"].dt.year\n",
        "YearlyFurnishingsDiscountbyRegion = JustFurnishingsYears[[\"Year\",\"Profit\",\"Discount\",\"Sales\"]].groupby(by=[\"Year\"]).sum().sort_values(by=[\"Year\"]).style.format(format_dict).applymap(highlight_cells)\n",
        "YearlyFurnishingsDiscountbyRegion = YearlyFurnishingsDiscountbyRegion\n",
        "print(\"Yearly average profit and discount on Furnishings for each region.\\n\")\n",
        "display(YearlyFurnishingsDiscountbyRegion)"
      ],
      "metadata": {
        "colab": {
          "base_uri": "https://localhost:8080/",
          "height": 241
        },
        "id": "yoGuhJnc1NSY",
        "outputId": "4500ff23-2f14-4121-8eac-01771f9572a7"
      },
      "execution_count": null,
      "outputs": [
        {
          "output_type": "stream",
          "name": "stdout",
          "text": [
            "Yearly average profit and discount on Furnishings for each region.\n",
            "\n"
          ]
        },
        {
          "output_type": "display_data",
          "data": {
            "text/plain": [
              "<pandas.io.formats.style.Styler at 0x7fbadd302070>"
            ],
            "text/html": [
              "<style type=\"text/css\">\n",
              "#T_11659_row0_col0, #T_11659_row0_col1, #T_11659_row0_col2, #T_11659_row1_col0, #T_11659_row1_col1, #T_11659_row1_col2, #T_11659_row2_col0, #T_11659_row2_col1, #T_11659_row2_col2, #T_11659_row3_col0, #T_11659_row3_col1, #T_11659_row3_col2 {\n",
              "  background-color: ;\n",
              "}\n",
              "</style>\n",
              "<table id=\"T_11659\" class=\"dataframe\">\n",
              "  <thead>\n",
              "    <tr>\n",
              "      <th class=\"blank level0\" >&nbsp;</th>\n",
              "      <th id=\"T_11659_level0_col0\" class=\"col_heading level0 col0\" >Profit</th>\n",
              "      <th id=\"T_11659_level0_col1\" class=\"col_heading level0 col1\" >Discount</th>\n",
              "      <th id=\"T_11659_level0_col2\" class=\"col_heading level0 col2\" >Sales</th>\n",
              "    </tr>\n",
              "    <tr>\n",
              "      <th class=\"index_name level0\" >Year</th>\n",
              "      <th class=\"blank col0\" >&nbsp;</th>\n",
              "      <th class=\"blank col1\" >&nbsp;</th>\n",
              "      <th class=\"blank col2\" >&nbsp;</th>\n",
              "    </tr>\n",
              "  </thead>\n",
              "  <tbody>\n",
              "    <tr>\n",
              "      <th id=\"T_11659_level0_row0\" class=\"row_heading level0 row0\" >2016</th>\n",
              "      <td id=\"T_11659_row0_col0\" class=\"data row0 col0\" >$3,935.27</td>\n",
              "      <td id=\"T_11659_row0_col1\" class=\"data row0 col1\" >3660.00%</td>\n",
              "      <td id=\"T_11659_row0_col2\" class=\"data row0 col2\" >27874.124000</td>\n",
              "    </tr>\n",
              "    <tr>\n",
              "      <th id=\"T_11659_level0_row1\" class=\"row_heading level0 row1\" >2017</th>\n",
              "      <td id=\"T_11659_row1_col0\" class=\"data row1 col0\" >$4,099.16</td>\n",
              "      <td id=\"T_11659_row1_col1\" class=\"data row1 col1\" >4080.00%</td>\n",
              "      <td id=\"T_11659_row1_col2\" class=\"data row1 col2\" >28915.094000</td>\n",
              "    </tr>\n",
              "    <tr>\n",
              "      <th id=\"T_11659_level0_row2\" class=\"row_heading level0 row2\" >2018</th>\n",
              "      <td id=\"T_11659_row2_col0\" class=\"data row2 col0\" >$1,972.89</td>\n",
              "      <td id=\"T_11659_row2_col1\" class=\"data row2 col1\" >2760.00%</td>\n",
              "      <td id=\"T_11659_row2_col2\" class=\"data row2 col2\" >13826.234000</td>\n",
              "    </tr>\n",
              "    <tr>\n",
              "      <th id=\"T_11659_level0_row3\" class=\"row_heading level0 row3\" >2019</th>\n",
              "      <td id=\"T_11659_row3_col0\" class=\"data row3 col0\" >$3,051.82</td>\n",
              "      <td id=\"T_11659_row3_col1\" class=\"data row3 col1\" >2740.00%</td>\n",
              "      <td id=\"T_11659_row3_col2\" class=\"data row3 col2\" >21089.712000</td>\n",
              "    </tr>\n",
              "  </tbody>\n",
              "</table>\n"
            ]
          },
          "metadata": {}
        }
      ]
    },
    {
      "cell_type": "markdown",
      "source": [
        "![image.png](data:image/png;base64,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)\n",
        "\n",
        "![image.png](data:image/png;base64,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)"
      ],
      "metadata": {
        "id": "oL0UBUgdz36Z"
      }
    },
    {
      "cell_type": "code",
      "source": [
        "#Function to highlight numbers that are less than 0\n",
        "def highlight_cells(val):\n",
        "  color = 'red' if val < 0 else ''\n",
        "  return 'background-color:{}'.format(color)\n",
        "\n",
        "#Variable for formatting data as currency and percentage\n",
        "format_dict = {'Profit':'${0:,.2f}', 'Discount': '{:.2%}'}\n",
        "\n",
        "#Grouping by year, Region\n",
        "JustFurnishings = SalesData.loc[SalesData[\"Sub-Category\"]==\"Furnishings\"]\n",
        "JustFurnishingsYears = JustFurnishings.copy()\n",
        "JustFurnishingsYears[\"Year\"] = JustFurnishingsYears[\"Order Date\"].dt.year\n",
        "YearlyFurnishingsDiscountbyRegion = JustFurnishingsYears[[\"Region\",\"Year\",\"Profit\",\"Discount\",\"Sales\"]].groupby(by=[\"Year\",\"Region\"]).mean().sort_values(by=[\"Year\"]).style.format(format_dict).applymap(highlight_cells)\n",
        "YearlyFurnishingsDiscountbyRegion = YearlyFurnishingsDiscountbyRegion\n",
        "print(\"Yearly average profit and discount on Furnishings for each region.\\n\")\n",
        "display(YearlyFurnishingsDiscountbyRegion)"
      ],
      "metadata": {
        "colab": {
          "base_uri": "https://localhost:8080/",
          "height": 617
        },
        "id": "hyJN0BiKMQ5m",
        "outputId": "fc69740e-d6ab-4e48-e1a1-d0d72e2aeb04"
      },
      "execution_count": null,
      "outputs": [
        {
          "output_type": "stream",
          "name": "stdout",
          "text": [
            "Yearly average profit and discount on Furnishings for each region.\n",
            "\n"
          ]
        },
        {
          "output_type": "display_data",
          "data": {
            "text/plain": [
              "<pandas.io.formats.style.Styler at 0x7fbadf552550>"
            ],
            "text/html": [
              "<style type=\"text/css\">\n",
              "#T_4e408_row0_col0, #T_4e408_row4_col0, #T_4e408_row8_col0, #T_4e408_row12_col0 {\n",
              "  background-color: red;\n",
              "}\n",
              "#T_4e408_row0_col1, #T_4e408_row0_col2, #T_4e408_row1_col0, #T_4e408_row1_col1, #T_4e408_row1_col2, #T_4e408_row2_col0, #T_4e408_row2_col1, #T_4e408_row2_col2, #T_4e408_row3_col0, #T_4e408_row3_col1, #T_4e408_row3_col2, #T_4e408_row4_col1, #T_4e408_row4_col2, #T_4e408_row5_col0, #T_4e408_row5_col1, #T_4e408_row5_col2, #T_4e408_row6_col0, #T_4e408_row6_col1, #T_4e408_row6_col2, #T_4e408_row7_col0, #T_4e408_row7_col1, #T_4e408_row7_col2, #T_4e408_row8_col1, #T_4e408_row8_col2, #T_4e408_row9_col0, #T_4e408_row9_col1, #T_4e408_row9_col2, #T_4e408_row10_col0, #T_4e408_row10_col1, #T_4e408_row10_col2, #T_4e408_row11_col0, #T_4e408_row11_col1, #T_4e408_row11_col2, #T_4e408_row12_col1, #T_4e408_row12_col2, #T_4e408_row13_col0, #T_4e408_row13_col1, #T_4e408_row13_col2, #T_4e408_row14_col0, #T_4e408_row14_col1, #T_4e408_row14_col2, #T_4e408_row15_col0, #T_4e408_row15_col1, #T_4e408_row15_col2 {\n",
              "  background-color: ;\n",
              "}\n",
              "</style>\n",
              "<table id=\"T_4e408\" class=\"dataframe\">\n",
              "  <thead>\n",
              "    <tr>\n",
              "      <th class=\"blank\" >&nbsp;</th>\n",
              "      <th class=\"blank level0\" >&nbsp;</th>\n",
              "      <th id=\"T_4e408_level0_col0\" class=\"col_heading level0 col0\" >Profit</th>\n",
              "      <th id=\"T_4e408_level0_col1\" class=\"col_heading level0 col1\" >Discount</th>\n",
              "      <th id=\"T_4e408_level0_col2\" class=\"col_heading level0 col2\" >Sales</th>\n",
              "    </tr>\n",
              "    <tr>\n",
              "      <th class=\"index_name level0\" >Year</th>\n",
              "      <th class=\"index_name level1\" >Region</th>\n",
              "      <th class=\"blank col0\" >&nbsp;</th>\n",
              "      <th class=\"blank col1\" >&nbsp;</th>\n",
              "      <th class=\"blank col2\" >&nbsp;</th>\n",
              "    </tr>\n",
              "  </thead>\n",
              "  <tbody>\n",
              "    <tr>\n",
              "      <th id=\"T_4e408_level0_row0\" class=\"row_heading level0 row0\" rowspan=\"4\">2016</th>\n",
              "      <th id=\"T_4e408_level1_row0\" class=\"row_heading level1 row0\" >Central</th>\n",
              "      <td id=\"T_4e408_row0_col0\" class=\"data row0 col0\" >$-24.34</td>\n",
              "      <td id=\"T_4e408_row0_col1\" class=\"data row0 col1\" >39.69%</td>\n",
              "      <td id=\"T_4e408_row0_col2\" class=\"data row0 col2\" >78.702954</td>\n",
              "    </tr>\n",
              "    <tr>\n",
              "      <th id=\"T_4e408_level1_row1\" class=\"row_heading level1 row1\" >East</th>\n",
              "      <td id=\"T_4e408_row1_col0\" class=\"data row1 col0\" >$28.09</td>\n",
              "      <td id=\"T_4e408_row1_col1\" class=\"data row1 col1\" >6.32%</td>\n",
              "      <td id=\"T_4e408_row1_col2\" class=\"data row1 col2\" >126.146579</td>\n",
              "    </tr>\n",
              "    <tr>\n",
              "      <th id=\"T_4e408_level1_row2\" class=\"row_heading level1 row2\" >South</th>\n",
              "      <td id=\"T_4e408_row2_col0\" class=\"data row2 col0\" >$28.41</td>\n",
              "      <td id=\"T_4e408_row2_col1\" class=\"data row2 col1\" >7.56%</td>\n",
              "      <td id=\"T_4e408_row2_col2\" class=\"data row2 col2\" >119.617422</td>\n",
              "    </tr>\n",
              "    <tr>\n",
              "      <th id=\"T_4e408_level1_row3\" class=\"row_heading level1 row3\" >West</th>\n",
              "      <td id=\"T_4e408_row3_col0\" class=\"data row3 col0\" >$29.63</td>\n",
              "      <td id=\"T_4e408_row3_col1\" class=\"data row3 col1\" >3.66%</td>\n",
              "      <td id=\"T_4e408_row3_col2\" class=\"data row3 col2\" >109.697296</td>\n",
              "    </tr>\n",
              "    <tr>\n",
              "      <th id=\"T_4e408_level0_row4\" class=\"row_heading level0 row4\" rowspan=\"4\">2017</th>\n",
              "      <th id=\"T_4e408_level1_row4\" class=\"row_heading level1 row4\" >Central</th>\n",
              "      <td id=\"T_4e408_row4_col0\" class=\"data row4 col0\" >$-21.63</td>\n",
              "      <td id=\"T_4e408_row4_col1\" class=\"data row4 col1\" >38.36%</td>\n",
              "      <td id=\"T_4e408_row4_col2\" class=\"data row4 col2\" >83.180689</td>\n",
              "    </tr>\n",
              "    <tr>\n",
              "      <th id=\"T_4e408_level1_row5\" class=\"row_heading level1 row5\" >East</th>\n",
              "      <td id=\"T_4e408_row5_col0\" class=\"data row5 col0\" >$21.99</td>\n",
              "      <td id=\"T_4e408_row5_col1\" class=\"data row5 col1\" >7.96%</td>\n",
              "      <td id=\"T_4e408_row5_col2\" class=\"data row5 col2\" >101.524369</td>\n",
              "    </tr>\n",
              "    <tr>\n",
              "      <th id=\"T_4e408_level1_row6\" class=\"row_heading level1 row6\" >South</th>\n",
              "      <td id=\"T_4e408_row6_col0\" class=\"data row6 col0\" >$12.37</td>\n",
              "      <td id=\"T_4e408_row6_col1\" class=\"data row6 col1\" >13.48%</td>\n",
              "      <td id=\"T_4e408_row6_col2\" class=\"data row6 col2\" >73.599783</td>\n",
              "    </tr>\n",
              "    <tr>\n",
              "      <th id=\"T_4e408_level1_row7\" class=\"row_heading level1 row7\" >West</th>\n",
              "      <td id=\"T_4e408_row7_col0\" class=\"data row7 col0\" >$24.39</td>\n",
              "      <td id=\"T_4e408_row7_col1\" class=\"data row7 col1\" >2.83%</td>\n",
              "      <td id=\"T_4e408_row7_col2\" class=\"data row7 col2\" >94.325208</td>\n",
              "    </tr>\n",
              "    <tr>\n",
              "      <th id=\"T_4e408_level0_row8\" class=\"row_heading level0 row8\" rowspan=\"4\">2018</th>\n",
              "      <th id=\"T_4e408_level1_row8\" class=\"row_heading level1 row8\" >Central</th>\n",
              "      <td id=\"T_4e408_row8_col0\" class=\"data row8 col0\" >$-6.16</td>\n",
              "      <td id=\"T_4e408_row8_col1\" class=\"data row8 col1\" >45.00%</td>\n",
              "      <td id=\"T_4e408_row8_col2\" class=\"data row8 col2\" >63.402400</td>\n",
              "    </tr>\n",
              "    <tr>\n",
              "      <th id=\"T_4e408_level1_row9\" class=\"row_heading level1 row9\" >East</th>\n",
              "      <td id=\"T_4e408_row9_col0\" class=\"data row9 col0\" >$14.32</td>\n",
              "      <td id=\"T_4e408_row9_col1\" class=\"data row9 col1\" >8.85%</td>\n",
              "      <td id=\"T_4e408_row9_col2\" class=\"data row9 col2\" >72.256077</td>\n",
              "    </tr>\n",
              "    <tr>\n",
              "      <th id=\"T_4e408_level1_row10\" class=\"row_heading level1 row10\" >South</th>\n",
              "      <td id=\"T_4e408_row10_col0\" class=\"data row10 col0\" >$12.82</td>\n",
              "      <td id=\"T_4e408_row10_col1\" class=\"data row10 col1\" >10.30%</td>\n",
              "      <td id=\"T_4e408_row10_col2\" class=\"data row10 col2\" >95.772788</td>\n",
              "    </tr>\n",
              "    <tr>\n",
              "      <th id=\"T_4e408_level1_row11\" class=\"row_heading level1 row11\" >West</th>\n",
              "      <td id=\"T_4e408_row11_col0\" class=\"data row11 col0\" >$17.83</td>\n",
              "      <td id=\"T_4e408_row11_col1\" class=\"data row11 col1\" >2.71%</td>\n",
              "      <td id=\"T_4e408_row11_col2\" class=\"data row11 col2\" >74.107119</td>\n",
              "    </tr>\n",
              "    <tr>\n",
              "      <th id=\"T_4e408_level0_row12\" class=\"row_heading level0 row12\" rowspan=\"4\">2019</th>\n",
              "      <th id=\"T_4e408_level1_row12\" class=\"row_heading level1 row12\" >Central</th>\n",
              "      <td id=\"T_4e408_row12_col0\" class=\"data row12 col0\" >$-19.43</td>\n",
              "      <td id=\"T_4e408_row12_col1\" class=\"data row12 col1\" >40.00%</td>\n",
              "      <td id=\"T_4e408_row12_col2\" class=\"data row12 col2\" >64.834872</td>\n",
              "    </tr>\n",
              "    <tr>\n",
              "      <th id=\"T_4e408_level1_row13\" class=\"row_heading level1 row13\" >East</th>\n",
              "      <td id=\"T_4e408_row13_col0\" class=\"data row13 col0\" >$14.17</td>\n",
              "      <td id=\"T_4e408_row13_col1\" class=\"data row13 col1\" >8.46%</td>\n",
              "      <td id=\"T_4e408_row13_col2\" class=\"data row13 col2\" >101.344500</td>\n",
              "    </tr>\n",
              "    <tr>\n",
              "      <th id=\"T_4e408_level1_row14\" class=\"row_heading level1 row14\" >South</th>\n",
              "      <td id=\"T_4e408_row14_col0\" class=\"data row14 col0\" >$28.59</td>\n",
              "      <td id=\"T_4e408_row14_col1\" class=\"data row14 col1\" >11.22%</td>\n",
              "      <td id=\"T_4e408_row14_col2\" class=\"data row14 col2\" >131.166049</td>\n",
              "    </tr>\n",
              "    <tr>\n",
              "      <th id=\"T_4e408_level1_row15\" class=\"row_heading level1 row15\" >West</th>\n",
              "      <td id=\"T_4e408_row15_col0\" class=\"data row15 col0\" >$27.95</td>\n",
              "      <td id=\"T_4e408_row15_col1\" class=\"data row15 col1\" >4.12%</td>\n",
              "      <td id=\"T_4e408_row15_col2\" class=\"data row15 col2\" >116.373971</td>\n",
              "    </tr>\n",
              "  </tbody>\n",
              "</table>\n"
            ]
          },
          "metadata": {}
        }
      ]
    },
    {
      "cell_type": "markdown",
      "source": [
        "CENTRAL Region constantly has negative profits on yearly basis."
      ],
      "metadata": {
        "id": "THdluiKGZqEP"
      }
    },
    {
      "cell_type": "code",
      "source": [
        "#Function to highlight numbers that are less than 0\n",
        "def highlight_cells(val):\n",
        "  color = 'red' if val < 0 else ''\n",
        "  return 'background-color:{}'.format(color)\n",
        "\n",
        "#Variable for formatting data as currency and percentage\n",
        "format_dict = {'Profit':'${0:,.2f}', 'Discount': '{:.2%}'}\n",
        "\n",
        "#Grouping by year, segment\n",
        "JustFurnishings = SalesData.loc[SalesData[\"Sub-Category\"]==\"Furnishings\"]\n",
        "JustFurnishingsYears = JustFurnishings.copy()\n",
        "JustFurnishingsYears[\"Year\"] = JustFurnishingsYears[\"Order Date\"].dt.year\n",
        "YearlyFurnishingsDiscountbyRegion = JustFurnishingsYears[[\"Segment\",\"Year\",\"Profit\",\"Discount\",\"Sales\"]].groupby(by=[\"Year\",\"Segment\"]).mean().sort_values(by=[\"Year\"]).style.format(format_dict).applymap(highlight_cells)\n",
        "YearlyFurnishingsDiscountbyRegion = YearlyFurnishingsDiscountbyRegion\n",
        "print(\"Yearly average profit and discount on Furnishings for each region.\\n\")\n",
        "display(YearlyFurnishingsDiscountbyRegion)"
      ],
      "metadata": {
        "id": "juHJCIxqMwzT",
        "colab": {
          "base_uri": "https://localhost:8080/",
          "height": 492
        },
        "outputId": "3f3311f8-2462-41fe-cd97-7fa0f48df28f"
      },
      "execution_count": null,
      "outputs": [
        {
          "output_type": "stream",
          "name": "stdout",
          "text": [
            "Yearly average profit and discount on Furnishings for each region.\n",
            "\n"
          ]
        },
        {
          "output_type": "display_data",
          "data": {
            "text/plain": [
              "<pandas.io.formats.style.Styler at 0x7fbaddb69ca0>"
            ],
            "text/html": [
              "<style type=\"text/css\">\n",
              "#T_ca41b_row0_col0, #T_ca41b_row0_col1, #T_ca41b_row0_col2, #T_ca41b_row1_col0, #T_ca41b_row1_col1, #T_ca41b_row1_col2, #T_ca41b_row2_col1, #T_ca41b_row2_col2, #T_ca41b_row3_col0, #T_ca41b_row3_col1, #T_ca41b_row3_col2, #T_ca41b_row4_col0, #T_ca41b_row4_col1, #T_ca41b_row4_col2, #T_ca41b_row5_col0, #T_ca41b_row5_col1, #T_ca41b_row5_col2, #T_ca41b_row6_col0, #T_ca41b_row6_col1, #T_ca41b_row6_col2, #T_ca41b_row7_col0, #T_ca41b_row7_col1, #T_ca41b_row7_col2, #T_ca41b_row8_col0, #T_ca41b_row8_col1, #T_ca41b_row8_col2, #T_ca41b_row9_col0, #T_ca41b_row9_col1, #T_ca41b_row9_col2, #T_ca41b_row10_col0, #T_ca41b_row10_col1, #T_ca41b_row10_col2, #T_ca41b_row11_col0, #T_ca41b_row11_col1, #T_ca41b_row11_col2 {\n",
              "  background-color: ;\n",
              "}\n",
              "#T_ca41b_row2_col0 {\n",
              "  background-color: red;\n",
              "}\n",
              "</style>\n",
              "<table id=\"T_ca41b\" class=\"dataframe\">\n",
              "  <thead>\n",
              "    <tr>\n",
              "      <th class=\"blank\" >&nbsp;</th>\n",
              "      <th class=\"blank level0\" >&nbsp;</th>\n",
              "      <th id=\"T_ca41b_level0_col0\" class=\"col_heading level0 col0\" >Profit</th>\n",
              "      <th id=\"T_ca41b_level0_col1\" class=\"col_heading level0 col1\" >Discount</th>\n",
              "      <th id=\"T_ca41b_level0_col2\" class=\"col_heading level0 col2\" >Sales</th>\n",
              "    </tr>\n",
              "    <tr>\n",
              "      <th class=\"index_name level0\" >Year</th>\n",
              "      <th class=\"index_name level1\" >Segment</th>\n",
              "      <th class=\"blank col0\" >&nbsp;</th>\n",
              "      <th class=\"blank col1\" >&nbsp;</th>\n",
              "      <th class=\"blank col2\" >&nbsp;</th>\n",
              "    </tr>\n",
              "  </thead>\n",
              "  <tbody>\n",
              "    <tr>\n",
              "      <th id=\"T_ca41b_level0_row0\" class=\"row_heading level0 row0\" rowspan=\"3\">2016</th>\n",
              "      <th id=\"T_ca41b_level1_row0\" class=\"row_heading level1 row0\" >Consumer</th>\n",
              "      <td id=\"T_ca41b_row0_col0\" class=\"data row0 col0\" >$25.76</td>\n",
              "      <td id=\"T_ca41b_row0_col1\" class=\"data row0 col1\" >12.37%</td>\n",
              "      <td id=\"T_ca41b_row0_col2\" class=\"data row0 col2\" >133.282901</td>\n",
              "    </tr>\n",
              "    <tr>\n",
              "      <th id=\"T_ca41b_level1_row1\" class=\"row_heading level1 row1\" >Corporate</th>\n",
              "      <td id=\"T_ca41b_row1_col0\" class=\"data row1 col0\" >$8.46</td>\n",
              "      <td id=\"T_ca41b_row1_col1\" class=\"data row1 col1\" >15.00%</td>\n",
              "      <td id=\"T_ca41b_row1_col2\" class=\"data row1 col2\" >80.264895</td>\n",
              "    </tr>\n",
              "    <tr>\n",
              "      <th id=\"T_ca41b_level1_row2\" class=\"row_heading level1 row2\" >Home Office</th>\n",
              "      <td id=\"T_ca41b_row2_col0\" class=\"data row2 col0\" >$-1.66</td>\n",
              "      <td id=\"T_ca41b_row2_col1\" class=\"data row2 col1\" >18.00%</td>\n",
              "      <td id=\"T_ca41b_row2_col2\" class=\"data row2 col2\" >86.278640</td>\n",
              "    </tr>\n",
              "    <tr>\n",
              "      <th id=\"T_ca41b_level0_row3\" class=\"row_heading level0 row3\" rowspan=\"3\">2017</th>\n",
              "      <th id=\"T_ca41b_level1_row3\" class=\"row_heading level1 row3\" >Consumer</th>\n",
              "      <td id=\"T_ca41b_row3_col0\" class=\"data row3 col0\" >$13.44</td>\n",
              "      <td id=\"T_ca41b_row3_col1\" class=\"data row3 col1\" >14.04%</td>\n",
              "      <td id=\"T_ca41b_row3_col2\" class=\"data row3 col2\" >84.591590</td>\n",
              "    </tr>\n",
              "    <tr>\n",
              "      <th id=\"T_ca41b_level1_row4\" class=\"row_heading level1 row4\" >Corporate</th>\n",
              "      <td id=\"T_ca41b_row4_col0\" class=\"data row4 col0\" >$10.99</td>\n",
              "      <td id=\"T_ca41b_row4_col1\" class=\"data row4 col1\" >9.78%</td>\n",
              "      <td id=\"T_ca41b_row4_col2\" class=\"data row4 col2\" >89.002467</td>\n",
              "    </tr>\n",
              "    <tr>\n",
              "      <th id=\"T_ca41b_level1_row5\" class=\"row_heading level1 row5\" >Home Office</th>\n",
              "      <td id=\"T_ca41b_row5_col0\" class=\"data row5 col0\" >$14.57</td>\n",
              "      <td id=\"T_ca41b_row5_col1\" class=\"data row5 col1\" >14.46%</td>\n",
              "      <td id=\"T_ca41b_row5_col2\" class=\"data row5 col2\" >112.086554</td>\n",
              "    </tr>\n",
              "    <tr>\n",
              "      <th id=\"T_ca41b_level0_row6\" class=\"row_heading level0 row6\" rowspan=\"3\">2018</th>\n",
              "      <th id=\"T_ca41b_level1_row6\" class=\"row_heading level1 row6\" >Consumer</th>\n",
              "      <td id=\"T_ca41b_row6_col0\" class=\"data row6 col0\" >$7.74</td>\n",
              "      <td id=\"T_ca41b_row6_col1\" class=\"data row6 col1\" >15.85%</td>\n",
              "      <td id=\"T_ca41b_row6_col2\" class=\"data row6 col2\" >73.379321</td>\n",
              "    </tr>\n",
              "    <tr>\n",
              "      <th id=\"T_ca41b_level1_row7\" class=\"row_heading level1 row7\" >Corporate</th>\n",
              "      <td id=\"T_ca41b_row7_col0\" class=\"data row7 col0\" >$13.44</td>\n",
              "      <td id=\"T_ca41b_row7_col1\" class=\"data row7 col1\" >15.20%</td>\n",
              "      <td id=\"T_ca41b_row7_col2\" class=\"data row7 col2\" >83.649960</td>\n",
              "    </tr>\n",
              "    <tr>\n",
              "      <th id=\"T_ca41b_level1_row8\" class=\"row_heading level1 row8\" >Home Office</th>\n",
              "      <td id=\"T_ca41b_row8_col0\" class=\"data row8 col0\" >$17.14</td>\n",
              "      <td id=\"T_ca41b_row8_col1\" class=\"data row8 col1\" >11.43%</td>\n",
              "      <td id=\"T_ca41b_row8_col2\" class=\"data row8 col2\" >66.626000</td>\n",
              "    </tr>\n",
              "    <tr>\n",
              "      <th id=\"T_ca41b_level0_row9\" class=\"row_heading level0 row9\" rowspan=\"3\">2019</th>\n",
              "      <th id=\"T_ca41b_level1_row9\" class=\"row_heading level1 row9\" >Consumer</th>\n",
              "      <td id=\"T_ca41b_row9_col0\" class=\"data row9 col0\" >$16.25</td>\n",
              "      <td id=\"T_ca41b_row9_col1\" class=\"data row9 col1\" >14.17%</td>\n",
              "      <td id=\"T_ca41b_row9_col2\" class=\"data row9 col2\" >112.109708</td>\n",
              "    </tr>\n",
              "    <tr>\n",
              "      <th id=\"T_ca41b_level1_row10\" class=\"row_heading level1 row10\" >Corporate</th>\n",
              "      <td id=\"T_ca41b_row10_col0\" class=\"data row10 col0\" >$16.72</td>\n",
              "      <td id=\"T_ca41b_row10_col1\" class=\"data row10 col1\" >16.11%</td>\n",
              "      <td id=\"T_ca41b_row10_col2\" class=\"data row10 col2\" >93.172417</td>\n",
              "    </tr>\n",
              "    <tr>\n",
              "      <th id=\"T_ca41b_level1_row11\" class=\"row_heading level1 row11\" >Home Office</th>\n",
              "      <td id=\"T_ca41b_row11_col0\" class=\"data row11 col0\" >$8.99</td>\n",
              "      <td id=\"T_ca41b_row11_col1\" class=\"data row11 col1\" >6.88%</td>\n",
              "      <td id=\"T_ca41b_row11_col2\" class=\"data row11 col2\" >113.086438</td>\n",
              "    </tr>\n",
              "  </tbody>\n",
              "</table>\n"
            ]
          },
          "metadata": {}
        }
      ]
    },
    {
      "cell_type": "code",
      "source": [
        "#Sorting by highest avg. discount item in CENTRAL REGION\n",
        "\n",
        "JustFurnishings = SalesData.loc[SalesData[\"Sub-Category\"] == \"Furnishings\"]\n",
        "FurnishingsDiscount = JustFurnishings[[\"Region\",\"Product Name\",\"Profit\"]]\n",
        "AveDiscount = FurnishingsDiscount.mean()\n",
        "print(AveDiscount)\n",
        "CentralFurnishings = FurnishingsDiscount.loc[FurnishingsDiscount[\"Region\"]==\"Central\"]\n",
        "FurnishingsProf = CentralFurnishings.groupby(by=[\"Product Name\"]).mean().sort_values(by =\"Discount\", ascending = False)\n",
        "print(\"PROF, DISCOUNT of Furnishings in Central region\")\n",
        "print(FurnishingsProf.head(25))"
      ],
      "metadata": {
        "colab": {
          "base_uri": "https://localhost:8080/"
        },
        "id": "xC-ASfTu1gYq",
        "outputId": "e42aeb3f-8878-4785-b13d-f82f34f62be5"
      },
      "execution_count": null,
      "outputs": [
        {
          "output_type": "stream",
          "name": "stdout",
          "text": [
            "Profit      13.645918\n",
            "Discount     0.138349\n",
            "dtype: float64\n",
            "PROF, DISCOUNT of Furnishings in Central region\n",
            "                                                      Profit  Discount\n",
            "Product Name                                                          \n",
            "12-1/2 Diameter Round Wall Clock                    -17.5824       0.6\n",
            "Eldon Expressions Wood Desk Accessories, Oak         -9.9138       0.6\n",
            "Executive Impressions 12\" Wall Clock                 -9.7185       0.6\n",
            "OIC Stacking Trays                                   -2.1376       0.6\n",
            "Electrix Incandescent Magnifying Lamp, Black        -24.1890       0.6\n",
            "Electrix Halogen Magnifier Lamp                     -66.0620       0.6\n",
            "36X48 HARDFLOOR CHAIRMAT                            -27.7985       0.6\n",
            "Eldon Imàge Series Desk Accessories, Clear           -7.4358       0.6\n",
            "Eldon Image Series Desk Accessories, Ebony           -9.8800       0.6\n",
            "Eldon Image Series Desk Accessories, Burgundy        -4.0128       0.6\n",
            "Eldon Expressions Punched Metal & Wood Desk Acc...  -12.0064       0.6\n",
            "Eldon 400 Class Desk Accessories, Black Carbon       -6.3000       0.6\n",
            "Eldon Expressions Desk Accessory, Wood Pencil H...  -14.4750       0.6\n",
            "Eldon Executive Woodline II Desk Accessories, M...  -16.5858       0.6\n",
            "Eldon Executive Woodline II Cherry Finish Desk ...  -39.2544       0.6\n",
            "Eldon Delta Triangular Chair Mat, 52\" x 58\", Clear  -31.8612       0.6\n",
            "Nu-Dell EZ-Mount Plastic Wall Frames                 -3.9400       0.6\n",
            "Eldon Cleatmat Chair Mats for Medium Pile Carpets   -39.1275       0.6\n",
            "Seth Thomas 16\" Steel Case Clock                    -43.8480       0.6\n",
            "Eldon Advantage Foldable Chair Mats for Low Pil... -105.6900       0.6\n",
            "Executive Impressions 14\" Contract Wall Clock w...  -17.7840       0.6\n",
            "Executive Impressions 16-1/2\" Circular Wall Clock   -12.8256       0.6\n",
            "Flat Face Poster Frame                              -13.5648       0.6\n",
            "Floodlight Indoor Halogen Bulbs, 1 Bulb per Pac...   -2.1340       0.6\n",
            "Master Caster Door Stop, Large Brown                 -4.8048       0.6\n"
          ]
        },
        {
          "output_type": "stream",
          "name": "stderr",
          "text": [
            "<ipython-input-84-23029a2544f1>:5: FutureWarning: Dropping of nuisance columns in DataFrame reductions (with 'numeric_only=None') is deprecated; in a future version this will raise TypeError.  Select only valid columns before calling the reduction.\n",
            "  AveDiscount = FurnishingsDiscount.mean()\n"
          ]
        }
      ]
    },
    {
      "cell_type": "markdown",
      "source": [
        "25 LEAST profitable furnishing items sold in CENTRAL region has AVG. discounts of 60% "
      ],
      "metadata": {
        "id": "rOTL3D5_ZYhm"
      }
    },
    {
      "cell_type": "code",
      "source": [
        "#Displaying most sold items that were NOT profitable in CENTRAL region\n",
        "\n",
        "JustFurnishings = SalesData.loc[SalesData[\"Sub-Category\"] == \"Furnishings\"]\n",
        "FurnishingsDiscount = JustFurnishings[[\"Product Name\",\"Profit\",\"Sales\"]]\n",
        "print(AveDiscount)\n",
        "FurnishingsProf = FurnishingsDiscount.groupby(by=[\"Product Name\"]).sum().round().sort_values(by =\"Profit\", ascending = False)\n",
        "PosFurnishings = FurnishingsProf[FurnishingsProf[\"Profit\"] < 0.0]\n",
        "\n",
        "display(PosFurnishings.head(15))"
      ],
      "metadata": {
        "id": "NuoLWGWqFVQQ",
        "colab": {
          "base_uri": "https://localhost:8080/",
          "height": 603
        },
        "outputId": "6b09c38e-f00b-415b-b2c1-bce5c878278d"
      },
      "execution_count": null,
      "outputs": [
        {
          "output_type": "stream",
          "name": "stdout",
          "text": [
            "Profit    13.645918\n",
            "Sales     95.825668\n",
            "dtype: float64\n"
          ]
        },
        {
          "output_type": "display_data",
          "data": {
            "text/plain": [
              "                                                    Profit   Sales\n",
              "Product Name                                                      \n",
              "Executive Impressions 16-1/2\" Circular Wall Clock     -1.0    59.0\n",
              "Executive Impressions 14\" Contract Wall Clock w...    -2.0    98.0\n",
              "Stacking Tray, Side-Loading, Legal, Smoke             -3.0    47.0\n",
              "Eldon 100 Class Desk Accessories                      -5.0    36.0\n",
              "Telescoping Adjustable Floor Lamp                     -6.0   144.0\n",
              "Eldon Expressions Desk Accessory, Wood Photo Fr...    -8.0   263.0\n",
              "Dana Swing-Arm Lamps                                 -11.0   109.0\n",
              "Electrix Incandescent Magnifying Lamp, Black         -16.0   117.0\n",
              "36X48 HARDFLOOR CHAIRMAT                             -40.0   369.0\n",
              "Tenex \"The Solids\" Textured Chair Mats               -41.0  1469.0\n",
              "Eldon Cleatmat Chair Mats for Medium Pile Carpets    -42.0   344.0\n",
              "Tenex Traditional Chairmats for Hard Floors, Av...   -46.0   180.0\n",
              "Eldon Advantage Foldable Chair Mats for Low Pil...   -49.0   379.0\n",
              "Eldon Executive Woodline II Cherry Finish Desk ...   -79.0    98.0\n",
              "Eldon Cleatmat Plus Chair Mats for High Pile Ca...  -111.0  1304.0"
            ],
            "text/html": [
              "\n",
              "  <div id=\"df-02ddd39d-c0a1-4c00-8356-a7dc86daa031\">\n",
              "    <div class=\"colab-df-container\">\n",
              "      <div>\n",
              "<style scoped>\n",
              "    .dataframe tbody tr th:only-of-type {\n",
              "        vertical-align: middle;\n",
              "    }\n",
              "\n",
              "    .dataframe tbody tr th {\n",
              "        vertical-align: top;\n",
              "    }\n",
              "\n",
              "    .dataframe thead th {\n",
              "        text-align: right;\n",
              "    }\n",
              "</style>\n",
              "<table border=\"1\" class=\"dataframe\">\n",
              "  <thead>\n",
              "    <tr style=\"text-align: right;\">\n",
              "      <th></th>\n",
              "      <th>Profit</th>\n",
              "      <th>Sales</th>\n",
              "    </tr>\n",
              "    <tr>\n",
              "      <th>Product Name</th>\n",
              "      <th></th>\n",
              "      <th></th>\n",
              "    </tr>\n",
              "  </thead>\n",
              "  <tbody>\n",
              "    <tr>\n",
              "      <th>Executive Impressions 16-1/2\" Circular Wall Clock</th>\n",
              "      <td>-1.0</td>\n",
              "      <td>59.0</td>\n",
              "    </tr>\n",
              "    <tr>\n",
              "      <th>Executive Impressions 14\" Contract Wall Clock with Quartz Movement</th>\n",
              "      <td>-2.0</td>\n",
              "      <td>98.0</td>\n",
              "    </tr>\n",
              "    <tr>\n",
              "      <th>Stacking Tray, Side-Loading, Legal, Smoke</th>\n",
              "      <td>-3.0</td>\n",
              "      <td>47.0</td>\n",
              "    </tr>\n",
              "    <tr>\n",
              "      <th>Eldon 100 Class Desk Accessories</th>\n",
              "      <td>-5.0</td>\n",
              "      <td>36.0</td>\n",
              "    </tr>\n",
              "    <tr>\n",
              "      <th>Telescoping Adjustable Floor Lamp</th>\n",
              "      <td>-6.0</td>\n",
              "      <td>144.0</td>\n",
              "    </tr>\n",
              "    <tr>\n",
              "      <th>Eldon Expressions Desk Accessory, Wood Photo Frame, Mahogany</th>\n",
              "      <td>-8.0</td>\n",
              "      <td>263.0</td>\n",
              "    </tr>\n",
              "    <tr>\n",
              "      <th>Dana Swing-Arm Lamps</th>\n",
              "      <td>-11.0</td>\n",
              "      <td>109.0</td>\n",
              "    </tr>\n",
              "    <tr>\n",
              "      <th>Electrix Incandescent Magnifying Lamp, Black</th>\n",
              "      <td>-16.0</td>\n",
              "      <td>117.0</td>\n",
              "    </tr>\n",
              "    <tr>\n",
              "      <th>36X48 HARDFLOOR CHAIRMAT</th>\n",
              "      <td>-40.0</td>\n",
              "      <td>369.0</td>\n",
              "    </tr>\n",
              "    <tr>\n",
              "      <th>Tenex \"The Solids\" Textured Chair Mats</th>\n",
              "      <td>-41.0</td>\n",
              "      <td>1469.0</td>\n",
              "    </tr>\n",
              "    <tr>\n",
              "      <th>Eldon Cleatmat Chair Mats for Medium Pile Carpets</th>\n",
              "      <td>-42.0</td>\n",
              "      <td>344.0</td>\n",
              "    </tr>\n",
              "    <tr>\n",
              "      <th>Tenex Traditional Chairmats for Hard Floors, Average Lip, 36\" x 48\"</th>\n",
              "      <td>-46.0</td>\n",
              "      <td>180.0</td>\n",
              "    </tr>\n",
              "    <tr>\n",
              "      <th>Eldon Advantage Foldable Chair Mats for Low Pile Carpets</th>\n",
              "      <td>-49.0</td>\n",
              "      <td>379.0</td>\n",
              "    </tr>\n",
              "    <tr>\n",
              "      <th>Eldon Executive Woodline II Cherry Finish Desk Accessories</th>\n",
              "      <td>-79.0</td>\n",
              "      <td>98.0</td>\n",
              "    </tr>\n",
              "    <tr>\n",
              "      <th>Eldon Cleatmat Plus Chair Mats for High Pile Carpets</th>\n",
              "      <td>-111.0</td>\n",
              "      <td>1304.0</td>\n",
              "    </tr>\n",
              "  </tbody>\n",
              "</table>\n",
              "</div>\n",
              "      <button class=\"colab-df-convert\" onclick=\"convertToInteractive('df-02ddd39d-c0a1-4c00-8356-a7dc86daa031')\"\n",
              "              title=\"Convert this dataframe to an interactive table.\"\n",
              "              style=\"display:none;\">\n",
              "        \n",
              "  <svg xmlns=\"http://www.w3.org/2000/svg\" height=\"24px\"viewBox=\"0 0 24 24\"\n",
              "       width=\"24px\">\n",
              "    <path d=\"M0 0h24v24H0V0z\" fill=\"none\"/>\n",
              "    <path d=\"M18.56 5.44l.94 2.06.94-2.06 2.06-.94-2.06-.94-.94-2.06-.94 2.06-2.06.94zm-11 1L8.5 8.5l.94-2.06 2.06-.94-2.06-.94L8.5 2.5l-.94 2.06-2.06.94zm10 10l.94 2.06.94-2.06 2.06-.94-2.06-.94-.94-2.06-.94 2.06-2.06.94z\"/><path d=\"M17.41 7.96l-1.37-1.37c-.4-.4-.92-.59-1.43-.59-.52 0-1.04.2-1.43.59L10.3 9.45l-7.72 7.72c-.78.78-.78 2.05 0 2.83L4 21.41c.39.39.9.59 1.41.59.51 0 1.02-.2 1.41-.59l7.78-7.78 2.81-2.81c.8-.78.8-2.07 0-2.86zM5.41 20L4 18.59l7.72-7.72 1.47 1.35L5.41 20z\"/>\n",
              "  </svg>\n",
              "      </button>\n",
              "      \n",
              "  <style>\n",
              "    .colab-df-container {\n",
              "      display:flex;\n",
              "      flex-wrap:wrap;\n",
              "      gap: 12px;\n",
              "    }\n",
              "\n",
              "    .colab-df-convert {\n",
              "      background-color: #E8F0FE;\n",
              "      border: none;\n",
              "      border-radius: 50%;\n",
              "      cursor: pointer;\n",
              "      display: none;\n",
              "      fill: #1967D2;\n",
              "      height: 32px;\n",
              "      padding: 0 0 0 0;\n",
              "      width: 32px;\n",
              "    }\n",
              "\n",
              "    .colab-df-convert:hover {\n",
              "      background-color: #E2EBFA;\n",
              "      box-shadow: 0px 1px 2px rgba(60, 64, 67, 0.3), 0px 1px 3px 1px rgba(60, 64, 67, 0.15);\n",
              "      fill: #174EA6;\n",
              "    }\n",
              "\n",
              "    [theme=dark] .colab-df-convert {\n",
              "      background-color: #3B4455;\n",
              "      fill: #D2E3FC;\n",
              "    }\n",
              "\n",
              "    [theme=dark] .colab-df-convert:hover {\n",
              "      background-color: #434B5C;\n",
              "      box-shadow: 0px 1px 3px 1px rgba(0, 0, 0, 0.15);\n",
              "      filter: drop-shadow(0px 1px 2px rgba(0, 0, 0, 0.3));\n",
              "      fill: #FFFFFF;\n",
              "    }\n",
              "  </style>\n",
              "\n",
              "      <script>\n",
              "        const buttonEl =\n",
              "          document.querySelector('#df-02ddd39d-c0a1-4c00-8356-a7dc86daa031 button.colab-df-convert');\n",
              "        buttonEl.style.display =\n",
              "          google.colab.kernel.accessAllowed ? 'block' : 'none';\n",
              "\n",
              "        async function convertToInteractive(key) {\n",
              "          const element = document.querySelector('#df-02ddd39d-c0a1-4c00-8356-a7dc86daa031');\n",
              "          const dataTable =\n",
              "            await google.colab.kernel.invokeFunction('convertToInteractive',\n",
              "                                                     [key], {});\n",
              "          if (!dataTable) return;\n",
              "\n",
              "          const docLinkHtml = 'Like what you see? Visit the ' +\n",
              "            '<a target=\"_blank\" href=https://colab.research.google.com/notebooks/data_table.ipynb>data table notebook</a>'\n",
              "            + ' to learn more about interactive tables.';\n",
              "          element.innerHTML = '';\n",
              "          dataTable['output_type'] = 'display_data';\n",
              "          await google.colab.output.renderOutput(dataTable, element);\n",
              "          const docLink = document.createElement('div');\n",
              "          docLink.innerHTML = docLinkHtml;\n",
              "          element.appendChild(docLink);\n",
              "        }\n",
              "      </script>\n",
              "    </div>\n",
              "  </div>\n",
              "  "
            ]
          },
          "metadata": {}
        }
      ]
    },
    {
      "cell_type": "code",
      "source": [
        "#correlation between discounts and sales \n",
        "\n",
        "import scipy.stats\n",
        "x = \"Discount\"\n",
        "y = \"Sales\"\n",
        "GetCorrelation = scipy.stats.spearmanr(JustFurnishings[x],JustFurnishings[y])\n",
        "Corr = GetCorrelation[0]\n",
        "CorrRounded = str(Corr.round(2))\n",
        "pValue = GetCorrelation[1]\n",
        "pValuerounded = str(pValue.round(5))\n",
        "print(\"Correlation between \" + x + \" and \" + y + \" is: \"+ CorrRounded)\n",
        "print(\"At p value: \" +pValuerounded)"
      ],
      "metadata": {
        "colab": {
          "base_uri": "https://localhost:8080/"
        },
        "id": "xn7Fk8CpKjJG",
        "outputId": "8e87b14b-348d-488d-e3fc-c514ca1a8332"
      },
      "execution_count": null,
      "outputs": [
        {
          "output_type": "stream",
          "name": "stdout",
          "text": [
            "Correlation between Discount and Sales is: -0.18\n",
            "At p value: 0.0\n"
          ]
        }
      ]
    },
    {
      "cell_type": "code",
      "source": [
        "#Avg discounts by region\n",
        "\n",
        "JustFurnishings = SalesData.loc[SalesData[\"Sub-Category\"]==\"Furnishings\"]\n",
        "RegionFurnishingsDiscount = JustFurnishings[[\"Region\",\"Discount\"]].groupby(by =\"Region\").mean()\n",
        "print(RegionFurnishingsDiscount)"
      ],
      "metadata": {
        "colab": {
          "base_uri": "https://localhost:8080/"
        },
        "id": "iHLuVFrQNw8E",
        "outputId": "763b16ef-f995-42a0-80cf-7797d4913d18"
      },
      "execution_count": null,
      "outputs": [
        {
          "output_type": "stream",
          "name": "stdout",
          "text": [
            "         Discount\n",
            "Region           \n",
            "Central  0.403902\n",
            "East     0.077739\n",
            "South    0.106667\n",
            "West     0.032895\n"
          ]
        }
      ]
    },
    {
      "cell_type": "markdown",
      "source": [
        "CENTRAL Region w/ AVG. discount of 40% on items in Furnishing Sub-Cat"
      ],
      "metadata": {
        "id": "jYFyBW1XZK4e"
      }
    },
    {
      "cell_type": "code",
      "source": [
        "#Aggregate Profit as SUM and Discount as MEAN\n",
        "\n",
        "FurnishingProduct = JustFurnishings[[\"Product Name\",\"Region\", \"Profit\",\"Discount\"]]\n",
        "CentralFurnishings = FurnishingProduct.loc[FurnishingsDiscount[\"Region\"]==\"Central\"]\n",
        "JustFurnishingsTotalProfAvgDiscount = CentralFurnishings.groupby(\"Product Name\").agg({\"Profit\":'sum', \"Discount\":'mean'}).sort_values(by=\"Profit\")\n",
        "display(JustFurnishingsTotalProfAvgDiscount)"
      ],
      "metadata": {
        "colab": {
          "base_uri": "https://localhost:8080/",
          "height": 455
        },
        "id": "ZP5wNS2GUs51",
        "outputId": "f8e6c88f-6334-4940-ebd2-a89ee667c842"
      },
      "execution_count": null,
      "outputs": [
        {
          "output_type": "display_data",
          "data": {
            "text/plain": [
              "                                                      Profit  Discount\n",
              "Product Name                                                          \n",
              "Tenex Chairmat w/ Average Lip, 45\" x 53\"           -681.1200       0.6\n",
              "Tenex Antistatic Computer Chair Mats               -427.4500       0.6\n",
              "Deflect-o RollaMat Studded, Beveled Mat for Med... -426.1026       0.6\n",
              "Luxo Professional Fluorescent Magnifier Lamp wi... -356.7280       0.6\n",
              "Eldon ClusterMat Chair Mat with Cordless Antist... -252.0146       0.2\n",
              "...                                                      ...       ...\n",
              "Advantus Employee of the Month Certificate Fram...   76.0878       0.0\n",
              "Luxo Professional Combination Clamp-On Lamps         79.7940       0.0\n",
              "Deflect-o Glass Clear Studded Chair Mats             82.0776       0.0\n",
              "3M Polarizing Task Lamp with Clamp Arm, Light Gray  284.9184       0.0\n",
              "Electrix Architect's Clamp-On Swing Arm Lamp, B...  378.0216       0.2\n",
              "\n",
              "[123 rows x 2 columns]"
            ],
            "text/html": [
              "\n",
              "  <div id=\"df-faeec04e-3911-4680-a639-726014d2a06d\">\n",
              "    <div class=\"colab-df-container\">\n",
              "      <div>\n",
              "<style scoped>\n",
              "    .dataframe tbody tr th:only-of-type {\n",
              "        vertical-align: middle;\n",
              "    }\n",
              "\n",
              "    .dataframe tbody tr th {\n",
              "        vertical-align: top;\n",
              "    }\n",
              "\n",
              "    .dataframe thead th {\n",
              "        text-align: right;\n",
              "    }\n",
              "</style>\n",
              "<table border=\"1\" class=\"dataframe\">\n",
              "  <thead>\n",
              "    <tr style=\"text-align: right;\">\n",
              "      <th></th>\n",
              "      <th>Profit</th>\n",
              "      <th>Discount</th>\n",
              "    </tr>\n",
              "    <tr>\n",
              "      <th>Product Name</th>\n",
              "      <th></th>\n",
              "      <th></th>\n",
              "    </tr>\n",
              "  </thead>\n",
              "  <tbody>\n",
              "    <tr>\n",
              "      <th>Tenex Chairmat w/ Average Lip, 45\" x 53\"</th>\n",
              "      <td>-681.1200</td>\n",
              "      <td>0.6</td>\n",
              "    </tr>\n",
              "    <tr>\n",
              "      <th>Tenex Antistatic Computer Chair Mats</th>\n",
              "      <td>-427.4500</td>\n",
              "      <td>0.6</td>\n",
              "    </tr>\n",
              "    <tr>\n",
              "      <th>Deflect-o RollaMat Studded, Beveled Mat for Medium Pile Carpeting</th>\n",
              "      <td>-426.1026</td>\n",
              "      <td>0.6</td>\n",
              "    </tr>\n",
              "    <tr>\n",
              "      <th>Luxo Professional Fluorescent Magnifier Lamp with Clamp-Mount Base</th>\n",
              "      <td>-356.7280</td>\n",
              "      <td>0.6</td>\n",
              "    </tr>\n",
              "    <tr>\n",
              "      <th>Eldon ClusterMat Chair Mat with Cordless Antistatic Protection</th>\n",
              "      <td>-252.0146</td>\n",
              "      <td>0.2</td>\n",
              "    </tr>\n",
              "    <tr>\n",
              "      <th>...</th>\n",
              "      <td>...</td>\n",
              "      <td>...</td>\n",
              "    </tr>\n",
              "    <tr>\n",
              "      <th>Advantus Employee of the Month Certificate Frame, 11 x 13-1/2</th>\n",
              "      <td>76.0878</td>\n",
              "      <td>0.0</td>\n",
              "    </tr>\n",
              "    <tr>\n",
              "      <th>Luxo Professional Combination Clamp-On Lamps</th>\n",
              "      <td>79.7940</td>\n",
              "      <td>0.0</td>\n",
              "    </tr>\n",
              "    <tr>\n",
              "      <th>Deflect-o Glass Clear Studded Chair Mats</th>\n",
              "      <td>82.0776</td>\n",
              "      <td>0.0</td>\n",
              "    </tr>\n",
              "    <tr>\n",
              "      <th>3M Polarizing Task Lamp with Clamp Arm, Light Gray</th>\n",
              "      <td>284.9184</td>\n",
              "      <td>0.0</td>\n",
              "    </tr>\n",
              "    <tr>\n",
              "      <th>Electrix Architect's Clamp-On Swing Arm Lamp, Black</th>\n",
              "      <td>378.0216</td>\n",
              "      <td>0.2</td>\n",
              "    </tr>\n",
              "  </tbody>\n",
              "</table>\n",
              "<p>123 rows × 2 columns</p>\n",
              "</div>\n",
              "      <button class=\"colab-df-convert\" onclick=\"convertToInteractive('df-faeec04e-3911-4680-a639-726014d2a06d')\"\n",
              "              title=\"Convert this dataframe to an interactive table.\"\n",
              "              style=\"display:none;\">\n",
              "        \n",
              "  <svg xmlns=\"http://www.w3.org/2000/svg\" height=\"24px\"viewBox=\"0 0 24 24\"\n",
              "       width=\"24px\">\n",
              "    <path d=\"M0 0h24v24H0V0z\" fill=\"none\"/>\n",
              "    <path d=\"M18.56 5.44l.94 2.06.94-2.06 2.06-.94-2.06-.94-.94-2.06-.94 2.06-2.06.94zm-11 1L8.5 8.5l.94-2.06 2.06-.94-2.06-.94L8.5 2.5l-.94 2.06-2.06.94zm10 10l.94 2.06.94-2.06 2.06-.94-2.06-.94-.94-2.06-.94 2.06-2.06.94z\"/><path d=\"M17.41 7.96l-1.37-1.37c-.4-.4-.92-.59-1.43-.59-.52 0-1.04.2-1.43.59L10.3 9.45l-7.72 7.72c-.78.78-.78 2.05 0 2.83L4 21.41c.39.39.9.59 1.41.59.51 0 1.02-.2 1.41-.59l7.78-7.78 2.81-2.81c.8-.78.8-2.07 0-2.86zM5.41 20L4 18.59l7.72-7.72 1.47 1.35L5.41 20z\"/>\n",
              "  </svg>\n",
              "      </button>\n",
              "      \n",
              "  <style>\n",
              "    .colab-df-container {\n",
              "      display:flex;\n",
              "      flex-wrap:wrap;\n",
              "      gap: 12px;\n",
              "    }\n",
              "\n",
              "    .colab-df-convert {\n",
              "      background-color: #E8F0FE;\n",
              "      border: none;\n",
              "      border-radius: 50%;\n",
              "      cursor: pointer;\n",
              "      display: none;\n",
              "      fill: #1967D2;\n",
              "      height: 32px;\n",
              "      padding: 0 0 0 0;\n",
              "      width: 32px;\n",
              "    }\n",
              "\n",
              "    .colab-df-convert:hover {\n",
              "      background-color: #E2EBFA;\n",
              "      box-shadow: 0px 1px 2px rgba(60, 64, 67, 0.3), 0px 1px 3px 1px rgba(60, 64, 67, 0.15);\n",
              "      fill: #174EA6;\n",
              "    }\n",
              "\n",
              "    [theme=dark] .colab-df-convert {\n",
              "      background-color: #3B4455;\n",
              "      fill: #D2E3FC;\n",
              "    }\n",
              "\n",
              "    [theme=dark] .colab-df-convert:hover {\n",
              "      background-color: #434B5C;\n",
              "      box-shadow: 0px 1px 3px 1px rgba(0, 0, 0, 0.15);\n",
              "      filter: drop-shadow(0px 1px 2px rgba(0, 0, 0, 0.3));\n",
              "      fill: #FFFFFF;\n",
              "    }\n",
              "  </style>\n",
              "\n",
              "      <script>\n",
              "        const buttonEl =\n",
              "          document.querySelector('#df-faeec04e-3911-4680-a639-726014d2a06d button.colab-df-convert');\n",
              "        buttonEl.style.display =\n",
              "          google.colab.kernel.accessAllowed ? 'block' : 'none';\n",
              "\n",
              "        async function convertToInteractive(key) {\n",
              "          const element = document.querySelector('#df-faeec04e-3911-4680-a639-726014d2a06d');\n",
              "          const dataTable =\n",
              "            await google.colab.kernel.invokeFunction('convertToInteractive',\n",
              "                                                     [key], {});\n",
              "          if (!dataTable) return;\n",
              "\n",
              "          const docLinkHtml = 'Like what you see? Visit the ' +\n",
              "            '<a target=\"_blank\" href=https://colab.research.google.com/notebooks/data_table.ipynb>data table notebook</a>'\n",
              "            + ' to learn more about interactive tables.';\n",
              "          element.innerHTML = '';\n",
              "          dataTable['output_type'] = 'display_data';\n",
              "          await google.colab.output.renderOutput(dataTable, element);\n",
              "          const docLink = document.createElement('div');\n",
              "          docLink.innerHTML = docLinkHtml;\n",
              "          element.appendChild(docLink);\n",
              "        }\n",
              "      </script>\n",
              "    </div>\n",
              "  </div>\n",
              "  "
            ]
          },
          "metadata": {}
        }
      ]
    },
    {
      "cell_type": "markdown",
      "source": [
        "Central is NOT profitable region for Sub-Cat: Furnishing, in all of 4 years."
      ],
      "metadata": {
        "id": "uXAAzW6eY-Pl"
      }
    },
    {
      "cell_type": "code",
      "source": [
        "JustFurnishings = SalesData.loc[SalesData[\"Sub-Category\"]==\"Furnishings\"]\n",
        "JustFurnishingsYears = JustFurnishings.copy()\n",
        "JustFurnishingsYears[\"Year\"] = JustFurnishingsYears[\"Order Date\"].dt.year\n",
        "Years = JustFurnishingsYears.Year.unique()\n",
        "RegionJustTableYear=JustFurnishingsYears[[\"Region\",\"Profit\",\"Year\",\"Discount\"]]\n",
        "\n",
        "for year in Years:\n",
        "  OneYear = RegionJustTableYear.loc[RegionJustTableYear[\"Year\"]==year]\n",
        "  NoYear = OneYear[[\"Region\",\"Profit\",\"Discount\"]]\n",
        "  YearlyFurnishingsDiscountbyRegion=NoYear.groupby(by=\"Region\",).mean()\n",
        "  print(\"\\nRegional table discounts for the year: \"+ str(year))\n",
        "  print(YearlyFurnishingsDiscountbyRegion)\n",
        "  print(\"*\"*30)"
      ],
      "metadata": {
        "id": "6bD8g5H4gxTo",
        "colab": {
          "base_uri": "https://localhost:8080/"
        },
        "outputId": "f1b3a068-c468-492f-ed9a-edd5844f3dd6"
      },
      "execution_count": null,
      "outputs": [
        {
          "output_type": "stream",
          "name": "stdout",
          "text": [
            "\n",
            "Regional table discounts for the year: 2016\n",
            "            Profit  Discount\n",
            "Region                      \n",
            "Central -24.343469  0.396923\n",
            "East     28.094417  0.063158\n",
            "South    28.408887  0.075556\n",
            "West     29.634083  0.036620\n",
            "******************************\n",
            "\n",
            "Regional table discounts for the year: 2017\n",
            "            Profit  Discount\n",
            "Region                      \n",
            "Central -21.634154  0.383607\n",
            "East     21.988121  0.079612\n",
            "South    12.369102  0.134783\n",
            "West     24.387651  0.028302\n",
            "******************************\n",
            "\n",
            "Regional table discounts for the year: 2018\n",
            "            Profit  Discount\n",
            "Region                      \n",
            "Central  -6.162727  0.450000\n",
            "East     14.315017  0.088462\n",
            "South    12.823230  0.103030\n",
            "West     17.828025  0.027119\n",
            "******************************\n",
            "\n",
            "Regional table discounts for the year: 2019\n",
            "            Profit  Discount\n",
            "Region                      \n",
            "Central -19.428174  0.400000\n",
            "East     14.174500  0.084615\n",
            "South    28.588724  0.112195\n",
            "West     27.945676  0.041176\n",
            "******************************\n"
          ]
        }
      ]
    }
  ]
}